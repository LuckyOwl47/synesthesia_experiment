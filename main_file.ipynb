{
 "cells": [
  {
   "cell_type": "code",
   "execution_count": 1,
   "id": "306184a1-09aa-4084-9928-17cd222e6013",
   "metadata": {},
   "outputs": [],
   "source": [
    "import pandas as pd\n",
    "import scipy.linalg as la\n",
    "from scipy import stats\n",
    "import numpy as np\n",
    "import matplotlib.pyplot as plt"
   ]
  },
  {
   "cell_type": "code",
   "execution_count": 6,
   "id": "abf8940d-bc6f-4f0b-b46d-7f77a5d7fb38",
   "metadata": {},
   "outputs": [],
   "source": [
    "file_path = \"/Users/jacobwamon/Documents/synesthesia project/individualCSVs/P002V.csv\"\n",
    "file_path2 = \"/Users/jacobwamon/Documents/synesthesia project/individualCSVs/P002A.csv\"\n",
    "df = pd.read_csv(file_path)\n",
    "df2 = pd.read_csv(file_path2)\n"
   ]
  },
  {
   "cell_type": "code",
   "execution_count": 9,
   "id": "e70fd950-ae72-4b70-8957-85f0d9f5e679",
   "metadata": {},
   "outputs": [],
   "source": [
    "def rgb_diff(group):\n",
    "    rgb_values = group[['r', 'g', 'b']].values\n",
    "    #print(rgb_values)\n",
    "    rgb1, rgb2, rgb3 = rgb_values[0], rgb_values[1], rgb_values[2]\n",
    "    rgb_diff = abs(rgb1 - rgb2) + abs(rgb2 - rgb3) + abs(rgb3 - rgb1)\n",
    "\n",
    "    #returns a new dataset with the average difference in RGB values for each stimulus\n",
    "    return pd.Series(rgb_diff, index=['v_diff_r', 'v_diff_g', 'v_diff_b'])\n",
    "\n",
    "def finalize_score(result):\n",
    "    \n",
    "    nan_counts = result[['diff_r' , 'diff_g' , 'diff_b']].isna().any(axis=1).sum()\n",
    "    #N = len(result) - nan_counts\n",
    "    result = result.dropna(subset=['diff_r', 'diff_g', 'diff_b'])\n",
    "    result_norm = result[['diff_r', 'diff_g', 'diff_b']] / 255\n",
    "    \n",
    "    N = len(result)\n",
    "\n",
    "    test_score_rgb = result_norm.sum() / N\n",
    "    final_test_score = test_score_rgb.sum()\n",
    "    \n",
    "    return final_test_score\n",
    "\n",
    "\n"
   ]
  },
  {
   "cell_type": "code",
   "execution_count": 10,
   "id": "130ee1eb-9f57-4d88-a0c7-607e891f148e",
   "metadata": {},
   "outputs": [
    {
     "name": "stdout",
     "output_type": "stream",
     "text": [
      "The dataset changed shape from (36, 4) to (36, 7)\n",
      "The visual score of the participant is: 3.127668845315904\n",
      "The auditory score of the participant is: 2.9135076252723313\n",
      "the twin score of the participant is: 1.8233115468409586\n"
     ]
    }
   ],
   "source": [
    "# these lines of code calculates the RGB differences for each stimuli across the two tests\n",
    "\n",
    " \n",
    "# these are the two tests.\n",
    "# Group by 'stimulus' and apply the rgb_diff function\n",
    "\n",
    "# V denotes the visual condition\n",
    "v_result = df.groupby('stimulus').apply(rgb_diff).reset_index()\n",
    "# A denotes the auditory condition\n",
    "a_result = df2.groupby('stimulus').apply(rgb_diff).reset_index()\n",
    "\n",
    "\n",
    "\n",
    "# Here we just rename each column in the auditory test because the rgb_diff function returns labels specified for V condition.\n",
    "# Renaming will be important when we merge the datasets later on\n",
    "new_column_names = {'v_diff_r': 'a_diff_r', 'v_diff_g': 'a_diff_g', 'v_diff_b': 'a_diff_b'}\n",
    "new_column_names = {'v_diff_r': 'a_diff_r', 'v_diff_g': 'a_diff_g', 'v_diff_b': 'a_diff_b'}\n",
    "a_result.rename(columns=new_column_names, inplace=True)\n",
    "\n",
    "\n",
    "# merges the two dataframes from visual and auditory tests\n",
    "total_score = v_result.merge(a_result, on='stimulus')\n",
    "\n",
    "# the dataset changed shape from (4, 35) to (7, 35)\n",
    "print(f\"The dataset changed shape from {v_result.shape} to {total_score.shape}\")\n",
    "\n",
    "\n",
    "# now we want to rename the columns in A condition and V condition. We do this just to utilize the same functions\n",
    "# to guarantee consistency when handling the data \n",
    "# now that total score dataset has been created, we can perform some simple arithmetics to get the total \n",
    "# difference in RGB values:\n",
    "total_score['diff_r'] = abs(total_score['v_diff_r'] - total_score['a_diff_r'])\n",
    "total_score['diff_g'] = abs(total_score['v_diff_g'] - total_score['a_diff_g'])\n",
    "total_score['diff_b'] = abs(total_score['v_diff_b'] - total_score['a_diff_b'])\n",
    "total_score\n",
    "\n",
    "# Visual condition\n",
    "v_new_column_names = {'v_diff_r': 'diff_r', 'v_diff_g': 'diff_g', 'v_diff_b': 'diff_b'}\n",
    "v_result.rename(columns=v_new_column_names, inplace=True)\n",
    "# Auditory condition\n",
    "a_new_column_names = {'a_diff_r': 'diff_r', 'a_diff_g': 'diff_g', 'a_diff_b': 'diff_b'}\n",
    "a_result.rename(columns=a_new_column_names, inplace=True)\n",
    "\n",
    "\n",
    "\n",
    "\n",
    "\n",
    "total_score['v_diff_r']\n",
    "\n",
    "\n",
    "# here's where the score is normalized and divided by N:\n",
    "#score = finalize_score(v_result)\n",
    "#print(f\"the final score of the participant is: {twin_score}\")\n",
    "\n",
    "#creates the dataset for twin score\n",
    "twin_dataset = total_score[['diff_r', 'diff_g', 'diff_b']]\n",
    "\n",
    "#normalizes the value \n",
    "twin_score = finalize_score(total_score)\n",
    "v_score = finalize_score(v_result)\n",
    "a_score = finalize_score(a_result)\n",
    "print(f\"The visual score of the participant is: {v_score}\")\n",
    "print(f\"The auditory score of the participant is: {a_score}\")\n",
    "print(f\"the twin score of the participant is: {twin_score}\")\n",
    "                          "
   ]
  },
  {
   "cell_type": "code",
   "execution_count": null,
   "id": "18ac982c",
   "metadata": {},
   "outputs": [],
   "source": []
  }
 ],
 "metadata": {
  "kernelspec": {
   "display_name": "Python 3 (ipykernel)",
   "language": "python",
   "name": "python3"
  },
  "language_info": {
   "codemirror_mode": {
    "name": "ipython",
    "version": 3
   },
   "file_extension": ".py",
   "mimetype": "text/x-python",
   "name": "python",
   "nbconvert_exporter": "python",
   "pygments_lexer": "ipython3",
   "version": "3.11.4"
  }
 },
 "nbformat": 4,
 "nbformat_minor": 5
}
